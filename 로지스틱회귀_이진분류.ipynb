{
  "nbformat": 4,
  "nbformat_minor": 0,
  "metadata": {
    "colab": {
      "provenance": [],
      "authorship_tag": "ABX9TyMBP4mU1FP+/hEiMDJPrB8g",
      "include_colab_link": true
    },
    "kernelspec": {
      "name": "python3",
      "display_name": "Python 3"
    },
    "language_info": {
      "name": "python"
    }
  },
  "cells": [
    {
      "cell_type": "markdown",
      "metadata": {
        "id": "view-in-github",
        "colab_type": "text"
      },
      "source": [
        "<a href=\"https://colab.research.google.com/github/gyuheon1/AIStudy24/blob/master/%EB%A1%9C%EC%A7%80%EC%8A%A4%ED%8B%B1%ED%9A%8C%EA%B7%80_%EC%9D%B4%EC%A7%84%EB%B6%84%EB%A5%98.ipynb\" target=\"_parent\"><img src=\"https://colab.research.google.com/assets/colab-badge.svg\" alt=\"Open In Colab\"/></a>"
      ]
    },
    {
      "cell_type": "markdown",
      "source": [
        "MBC 쇼핑몰에서느 럭키백을 판매하기로 했다.\n",
        "\n",
        "럭키팩에는 생선이 들어 있는데 종류가 7가지로 랜덤하게 들어있다.\n",
        "럭키팩에 확률을 표시해야 함 : 들어있는 7가지 생선의 확률이 필요함\n"
      ],
      "metadata": {
        "id": "4y_xjhMOqlW3"
      }
    },
    {
      "cell_type": "code",
      "execution_count": 4,
      "metadata": {
        "colab": {
          "base_uri": "https://localhost:8080/",
          "height": 206
        },
        "id": "yTnOkSV5qOHE",
        "outputId": "0fc26687-6e44-4471-e456-3536ad8b036c"
      },
      "outputs": [
        {
          "output_type": "execute_result",
          "data": {
            "text/plain": [
              "  Species  Weight  Length  Diagonal   Height   Width\n",
              "0   Bream   242.0    25.4      30.0  11.5200  4.0200\n",
              "1   Bream   290.0    26.3      31.2  12.4800  4.3056\n",
              "2   Bream   340.0    26.5      31.1  12.3778  4.6961\n",
              "3   Bream   363.0    29.0      33.5  12.7300  4.4555\n",
              "4   Bream   430.0    29.0      34.0  12.4440  5.1340"
            ],
            "text/html": [
              "\n",
              "  <div id=\"df-5ba89a42-54c4-4ffd-a847-6cf205ec64b9\" class=\"colab-df-container\">\n",
              "    <div>\n",
              "<style scoped>\n",
              "    .dataframe tbody tr th:only-of-type {\n",
              "        vertical-align: middle;\n",
              "    }\n",
              "\n",
              "    .dataframe tbody tr th {\n",
              "        vertical-align: top;\n",
              "    }\n",
              "\n",
              "    .dataframe thead th {\n",
              "        text-align: right;\n",
              "    }\n",
              "</style>\n",
              "<table border=\"1\" class=\"dataframe\">\n",
              "  <thead>\n",
              "    <tr style=\"text-align: right;\">\n",
              "      <th></th>\n",
              "      <th>Species</th>\n",
              "      <th>Weight</th>\n",
              "      <th>Length</th>\n",
              "      <th>Diagonal</th>\n",
              "      <th>Height</th>\n",
              "      <th>Width</th>\n",
              "    </tr>\n",
              "  </thead>\n",
              "  <tbody>\n",
              "    <tr>\n",
              "      <th>0</th>\n",
              "      <td>Bream</td>\n",
              "      <td>242.0</td>\n",
              "      <td>25.4</td>\n",
              "      <td>30.0</td>\n",
              "      <td>11.5200</td>\n",
              "      <td>4.0200</td>\n",
              "    </tr>\n",
              "    <tr>\n",
              "      <th>1</th>\n",
              "      <td>Bream</td>\n",
              "      <td>290.0</td>\n",
              "      <td>26.3</td>\n",
              "      <td>31.2</td>\n",
              "      <td>12.4800</td>\n",
              "      <td>4.3056</td>\n",
              "    </tr>\n",
              "    <tr>\n",
              "      <th>2</th>\n",
              "      <td>Bream</td>\n",
              "      <td>340.0</td>\n",
              "      <td>26.5</td>\n",
              "      <td>31.1</td>\n",
              "      <td>12.3778</td>\n",
              "      <td>4.6961</td>\n",
              "    </tr>\n",
              "    <tr>\n",
              "      <th>3</th>\n",
              "      <td>Bream</td>\n",
              "      <td>363.0</td>\n",
              "      <td>29.0</td>\n",
              "      <td>33.5</td>\n",
              "      <td>12.7300</td>\n",
              "      <td>4.4555</td>\n",
              "    </tr>\n",
              "    <tr>\n",
              "      <th>4</th>\n",
              "      <td>Bream</td>\n",
              "      <td>430.0</td>\n",
              "      <td>29.0</td>\n",
              "      <td>34.0</td>\n",
              "      <td>12.4440</td>\n",
              "      <td>5.1340</td>\n",
              "    </tr>\n",
              "  </tbody>\n",
              "</table>\n",
              "</div>\n",
              "    <div class=\"colab-df-buttons\">\n",
              "\n",
              "  <div class=\"colab-df-container\">\n",
              "    <button class=\"colab-df-convert\" onclick=\"convertToInteractive('df-5ba89a42-54c4-4ffd-a847-6cf205ec64b9')\"\n",
              "            title=\"Convert this dataframe to an interactive table.\"\n",
              "            style=\"display:none;\">\n",
              "\n",
              "  <svg xmlns=\"http://www.w3.org/2000/svg\" height=\"24px\" viewBox=\"0 -960 960 960\">\n",
              "    <path d=\"M120-120v-720h720v720H120Zm60-500h600v-160H180v160Zm220 220h160v-160H400v160Zm0 220h160v-160H400v160ZM180-400h160v-160H180v160Zm440 0h160v-160H620v160ZM180-180h160v-160H180v160Zm440 0h160v-160H620v160Z\"/>\n",
              "  </svg>\n",
              "    </button>\n",
              "\n",
              "  <style>\n",
              "    .colab-df-container {\n",
              "      display:flex;\n",
              "      gap: 12px;\n",
              "    }\n",
              "\n",
              "    .colab-df-convert {\n",
              "      background-color: #E8F0FE;\n",
              "      border: none;\n",
              "      border-radius: 50%;\n",
              "      cursor: pointer;\n",
              "      display: none;\n",
              "      fill: #1967D2;\n",
              "      height: 32px;\n",
              "      padding: 0 0 0 0;\n",
              "      width: 32px;\n",
              "    }\n",
              "\n",
              "    .colab-df-convert:hover {\n",
              "      background-color: #E2EBFA;\n",
              "      box-shadow: 0px 1px 2px rgba(60, 64, 67, 0.3), 0px 1px 3px 1px rgba(60, 64, 67, 0.15);\n",
              "      fill: #174EA6;\n",
              "    }\n",
              "\n",
              "    .colab-df-buttons div {\n",
              "      margin-bottom: 4px;\n",
              "    }\n",
              "\n",
              "    [theme=dark] .colab-df-convert {\n",
              "      background-color: #3B4455;\n",
              "      fill: #D2E3FC;\n",
              "    }\n",
              "\n",
              "    [theme=dark] .colab-df-convert:hover {\n",
              "      background-color: #434B5C;\n",
              "      box-shadow: 0px 1px 3px 1px rgba(0, 0, 0, 0.15);\n",
              "      filter: drop-shadow(0px 1px 2px rgba(0, 0, 0, 0.3));\n",
              "      fill: #FFFFFF;\n",
              "    }\n",
              "  </style>\n",
              "\n",
              "    <script>\n",
              "      const buttonEl =\n",
              "        document.querySelector('#df-5ba89a42-54c4-4ffd-a847-6cf205ec64b9 button.colab-df-convert');\n",
              "      buttonEl.style.display =\n",
              "        google.colab.kernel.accessAllowed ? 'block' : 'none';\n",
              "\n",
              "      async function convertToInteractive(key) {\n",
              "        const element = document.querySelector('#df-5ba89a42-54c4-4ffd-a847-6cf205ec64b9');\n",
              "        const dataTable =\n",
              "          await google.colab.kernel.invokeFunction('convertToInteractive',\n",
              "                                                    [key], {});\n",
              "        if (!dataTable) return;\n",
              "\n",
              "        const docLinkHtml = 'Like what you see? Visit the ' +\n",
              "          '<a target=\"_blank\" href=https://colab.research.google.com/notebooks/data_table.ipynb>data table notebook</a>'\n",
              "          + ' to learn more about interactive tables.';\n",
              "        element.innerHTML = '';\n",
              "        dataTable['output_type'] = 'display_data';\n",
              "        await google.colab.output.renderOutput(dataTable, element);\n",
              "        const docLink = document.createElement('div');\n",
              "        docLink.innerHTML = docLinkHtml;\n",
              "        element.appendChild(docLink);\n",
              "      }\n",
              "    </script>\n",
              "  </div>\n",
              "\n",
              "\n",
              "<div id=\"df-387d0036-b8a5-4a92-96d9-2886ed7f0d9d\">\n",
              "  <button class=\"colab-df-quickchart\" onclick=\"quickchart('df-387d0036-b8a5-4a92-96d9-2886ed7f0d9d')\"\n",
              "            title=\"Suggest charts\"\n",
              "            style=\"display:none;\">\n",
              "\n",
              "<svg xmlns=\"http://www.w3.org/2000/svg\" height=\"24px\"viewBox=\"0 0 24 24\"\n",
              "     width=\"24px\">\n",
              "    <g>\n",
              "        <path d=\"M19 3H5c-1.1 0-2 .9-2 2v14c0 1.1.9 2 2 2h14c1.1 0 2-.9 2-2V5c0-1.1-.9-2-2-2zM9 17H7v-7h2v7zm4 0h-2V7h2v10zm4 0h-2v-4h2v4z\"/>\n",
              "    </g>\n",
              "</svg>\n",
              "  </button>\n",
              "\n",
              "<style>\n",
              "  .colab-df-quickchart {\n",
              "      --bg-color: #E8F0FE;\n",
              "      --fill-color: #1967D2;\n",
              "      --hover-bg-color: #E2EBFA;\n",
              "      --hover-fill-color: #174EA6;\n",
              "      --disabled-fill-color: #AAA;\n",
              "      --disabled-bg-color: #DDD;\n",
              "  }\n",
              "\n",
              "  [theme=dark] .colab-df-quickchart {\n",
              "      --bg-color: #3B4455;\n",
              "      --fill-color: #D2E3FC;\n",
              "      --hover-bg-color: #434B5C;\n",
              "      --hover-fill-color: #FFFFFF;\n",
              "      --disabled-bg-color: #3B4455;\n",
              "      --disabled-fill-color: #666;\n",
              "  }\n",
              "\n",
              "  .colab-df-quickchart {\n",
              "    background-color: var(--bg-color);\n",
              "    border: none;\n",
              "    border-radius: 50%;\n",
              "    cursor: pointer;\n",
              "    display: none;\n",
              "    fill: var(--fill-color);\n",
              "    height: 32px;\n",
              "    padding: 0;\n",
              "    width: 32px;\n",
              "  }\n",
              "\n",
              "  .colab-df-quickchart:hover {\n",
              "    background-color: var(--hover-bg-color);\n",
              "    box-shadow: 0 1px 2px rgba(60, 64, 67, 0.3), 0 1px 3px 1px rgba(60, 64, 67, 0.15);\n",
              "    fill: var(--button-hover-fill-color);\n",
              "  }\n",
              "\n",
              "  .colab-df-quickchart-complete:disabled,\n",
              "  .colab-df-quickchart-complete:disabled:hover {\n",
              "    background-color: var(--disabled-bg-color);\n",
              "    fill: var(--disabled-fill-color);\n",
              "    box-shadow: none;\n",
              "  }\n",
              "\n",
              "  .colab-df-spinner {\n",
              "    border: 2px solid var(--fill-color);\n",
              "    border-color: transparent;\n",
              "    border-bottom-color: var(--fill-color);\n",
              "    animation:\n",
              "      spin 1s steps(1) infinite;\n",
              "  }\n",
              "\n",
              "  @keyframes spin {\n",
              "    0% {\n",
              "      border-color: transparent;\n",
              "      border-bottom-color: var(--fill-color);\n",
              "      border-left-color: var(--fill-color);\n",
              "    }\n",
              "    20% {\n",
              "      border-color: transparent;\n",
              "      border-left-color: var(--fill-color);\n",
              "      border-top-color: var(--fill-color);\n",
              "    }\n",
              "    30% {\n",
              "      border-color: transparent;\n",
              "      border-left-color: var(--fill-color);\n",
              "      border-top-color: var(--fill-color);\n",
              "      border-right-color: var(--fill-color);\n",
              "    }\n",
              "    40% {\n",
              "      border-color: transparent;\n",
              "      border-right-color: var(--fill-color);\n",
              "      border-top-color: var(--fill-color);\n",
              "    }\n",
              "    60% {\n",
              "      border-color: transparent;\n",
              "      border-right-color: var(--fill-color);\n",
              "    }\n",
              "    80% {\n",
              "      border-color: transparent;\n",
              "      border-right-color: var(--fill-color);\n",
              "      border-bottom-color: var(--fill-color);\n",
              "    }\n",
              "    90% {\n",
              "      border-color: transparent;\n",
              "      border-bottom-color: var(--fill-color);\n",
              "    }\n",
              "  }\n",
              "</style>\n",
              "\n",
              "  <script>\n",
              "    async function quickchart(key) {\n",
              "      const quickchartButtonEl =\n",
              "        document.querySelector('#' + key + ' button');\n",
              "      quickchartButtonEl.disabled = true;  // To prevent multiple clicks.\n",
              "      quickchartButtonEl.classList.add('colab-df-spinner');\n",
              "      try {\n",
              "        const charts = await google.colab.kernel.invokeFunction(\n",
              "            'suggestCharts', [key], {});\n",
              "      } catch (error) {\n",
              "        console.error('Error during call to suggestCharts:', error);\n",
              "      }\n",
              "      quickchartButtonEl.classList.remove('colab-df-spinner');\n",
              "      quickchartButtonEl.classList.add('colab-df-quickchart-complete');\n",
              "    }\n",
              "    (() => {\n",
              "      let quickchartButtonEl =\n",
              "        document.querySelector('#df-387d0036-b8a5-4a92-96d9-2886ed7f0d9d button');\n",
              "      quickchartButtonEl.style.display =\n",
              "        google.colab.kernel.accessAllowed ? 'block' : 'none';\n",
              "    })();\n",
              "  </script>\n",
              "</div>\n",
              "\n",
              "    </div>\n",
              "  </div>\n"
            ],
            "application/vnd.google.colaboratory.intrinsic+json": {
              "type": "dataframe",
              "summary": "{\n  \"name\": \"# \\uc5b4\\uc885(\\uc2a4\\ud53c\\uc2dc\\uc988), \\ubb34\\uac8c, \\uae38\\uc774, \\ub300\\uac01\\uc120, \\ud0a4, \\ub108\\ube44(\\ub450\\uaed8)\",\n  \"rows\": 5,\n  \"fields\": [\n    {\n      \"column\": \"Species\",\n      \"properties\": {\n        \"dtype\": \"category\",\n        \"num_unique_values\": 1,\n        \"samples\": [\n          \"Bream\"\n        ],\n        \"semantic_type\": \"\",\n        \"description\": \"\"\n      }\n    },\n    {\n      \"column\": \"Weight\",\n      \"properties\": {\n        \"dtype\": \"number\",\n        \"std\": 71.56814934033156,\n        \"min\": 242.0,\n        \"max\": 430.0,\n        \"num_unique_values\": 5,\n        \"samples\": [\n          290.0\n        ],\n        \"semantic_type\": \"\",\n        \"description\": \"\"\n      }\n    },\n    {\n      \"column\": \"Length\",\n      \"properties\": {\n        \"dtype\": \"number\",\n        \"std\": 1.6592166826548005,\n        \"min\": 25.4,\n        \"max\": 29.0,\n        \"num_unique_values\": 4,\n        \"samples\": [\n          26.3\n        ],\n        \"semantic_type\": \"\",\n        \"description\": \"\"\n      }\n    },\n    {\n      \"column\": \"Diagonal\",\n      \"properties\": {\n        \"dtype\": \"number\",\n        \"std\": 1.7096783323186848,\n        \"min\": 30.0,\n        \"max\": 34.0,\n        \"num_unique_values\": 5,\n        \"samples\": [\n          31.2\n        ],\n        \"semantic_type\": \"\",\n        \"description\": \"\"\n      }\n    },\n    {\n      \"column\": \"Height\",\n      \"properties\": {\n        \"dtype\": \"number\",\n        \"std\": 0.4615062816473903,\n        \"min\": 11.52,\n        \"max\": 12.73,\n        \"num_unique_values\": 5,\n        \"samples\": [\n          12.48\n        ],\n        \"semantic_type\": \"\",\n        \"description\": \"\"\n      }\n    },\n    {\n      \"column\": \"Width\",\n      \"properties\": {\n        \"dtype\": \"number\",\n        \"std\": 0.4207462810293161,\n        \"min\": 4.02,\n        \"max\": 5.134,\n        \"num_unique_values\": 5,\n        \"samples\": [\n          4.3056\n        ],\n        \"semantic_type\": \"\",\n        \"description\": \"\"\n      }\n    }\n  ]\n}"
            }
          },
          "metadata": {},
          "execution_count": 4
        }
      ],
      "source": [
        "# 럭키백의 확률 : 생선이 7마리라고 가정함\n",
        "# 생선의 크기, 무게 (길이, 높이, 두께, 대각선의 길이, 무게)\n",
        "\n",
        "# k-최근접 알고리즘을 이용해보면 회귀? 분류?\n",
        "# 확률을 알고 싶은 것이기 때문에 회귀를 사용해보자!!!\n",
        "\n",
        "# 샘플 10개중에 농어가 3갬ㄴ ? 3 / 10 = 0.3\n",
        "# 빙어가 5개면 ? 5 / 10 = 0.5\n",
        "# 도미가 2개면 ? 2 / 10 = 0.2   총합 100%\n",
        "\n",
        "# 사이킷런의 k-최근접 이웃 분리기도 이와 동일한 방식으로 확률 계산도 해줌\n",
        "\n",
        "# 샘플 데이터 준비\n",
        "# 로지스틱 회귀 : 럭키백 확률\n",
        "import pandas as pd\n",
        "fish = pd.read_csv('https://bit.ly/fish_csv_data') # 웹에 있는 파일을 가져옴\n",
        "fish.head()     # 제일 위쪽 데이터 5개를 보여줌\n",
        "# 어종(스피시즈), 무게, 길이, 대각선, 키, 너비(두께)"
      ]
    },
    {
      "cell_type": "code",
      "source": [
        "print(pd.unique(fish['Species'])) # 유니크하게 종류를 출력"
      ],
      "metadata": {
        "colab": {
          "base_uri": "https://localhost:8080/"
        },
        "id": "DjQorsn0ykRS",
        "outputId": "51a38af2-d5a4-498a-91d5-0b748235f0bd"
      },
      "execution_count": 5,
      "outputs": [
        {
          "output_type": "stream",
          "name": "stdout",
          "text": [
            "['Bream' 'Roach' 'Whitefish' 'Parkki' 'Perch' 'Pike' 'Smelt']\n"
          ]
        }
      ]
    },
    {
      "cell_type": "code",
      "source": [
        "# Bream : 브림(도미)\n",
        "# Roach : 로치(대구)\n",
        "# Whitefish : 잉어\n",
        "# Parkki : 붕어\n",
        "# perch : 농어\n",
        "# Pike : 감물치\n",
        "# Smelt : 빙어\n",
        "# 7개의 종류의 어종이 분포되어 있음\n",
        "\n",
        "# 분석용 입력값 생성\n",
        "fish_input = fish[['Weight','Length','Diagonal','Height','Width']].to_numpy()\n",
        "# 원하는 필드를 넣어 필터링\n",
        "print(fish_input[:5])   # 앞에서부터 5개만 출력"
      ],
      "metadata": {
        "colab": {
          "base_uri": "https://localhost:8080/"
        },
        "id": "_OZhB-t61uHa",
        "outputId": "4c00ee95-a324-42ff-d05f-b98be32a27c3"
      },
      "execution_count": 6,
      "outputs": [
        {
          "output_type": "stream",
          "name": "stdout",
          "text": [
            "[[242.      25.4     30.      11.52     4.02  ]\n",
            " [290.      26.3     31.2     12.48     4.3056]\n",
            " [340.      26.5     31.1     12.3778   4.6961]\n",
            " [363.      29.      33.5     12.73     4.4555]\n",
            " [430.      29.      34.      12.444    5.134 ]]\n"
          ]
        }
      ]
    },
    {
      "cell_type": "code",
      "source": [
        "# 정답 리스트 생성\n",
        "fish_target = fish['Species'].to_numpy()\n",
        "# fish[['Species]] 이렇게 하면 2차원 배열됨(금지)\n",
        "print(fish_target[:5])"
      ],
      "metadata": {
        "colab": {
          "base_uri": "https://localhost:8080/"
        },
        "id": "08fj289E3YFT",
        "outputId": "a376ec9d-4d4a-420a-e76c-e9b3b818fd01"
      },
      "execution_count": 7,
      "outputs": [
        {
          "output_type": "stream",
          "name": "stdout",
          "text": [
            "['Bream' 'Bream' 'Bream' 'Bream' 'Bream']\n"
          ]
        }
      ]
    },
    {
      "cell_type": "code",
      "source": [
        "# 훈련세트 생성\n",
        "\n",
        "from sklearn.model_selection import train_test_split\n",
        "train_input, test_input, train_target, test_target = train_test_split(fish_input, fish_target, random_state=42)\n",
        "\n",
        "print(train_input.shape , test_input.shape)\n",
        "# 훈련용 119개의 5개의 특성\n",
        "# 테스트용 40개의 5개 특성"
      ],
      "metadata": {
        "colab": {
          "base_uri": "https://localhost:8080/"
        },
        "id": "2-A3FUSL3nU6",
        "outputId": "2cbbb91c-9ccb-410a-d91a-915004542b97"
      },
      "execution_count": 9,
      "outputs": [
        {
          "output_type": "stream",
          "name": "stdout",
          "text": [
            "(119, 5) (40, 5)\n"
          ]
        }
      ]
    },
    {
      "cell_type": "code",
      "source": [
        "from sklearn.preprocessing import StandardScaler\n",
        "\n",
        "ss = StandardScaler()   # 싸이킷런의 전처리용(스케일 조정 : 표준점수화 했다)\n",
        "ss.fit(train_input)\n",
        "train_scaled = ss.transform(train_input)\n",
        "test_scaled = ss.transform(test_input)\n",
        "print(train_scaled[:5])"
      ],
      "metadata": {
        "colab": {
          "base_uri": "https://localhost:8080/"
        },
        "id": "G-n_snVE436J",
        "outputId": "594f852f-467c-4e17-b74f-a1f669a507b8"
      },
      "execution_count": 11,
      "outputs": [
        {
          "output_type": "stream",
          "name": "stdout",
          "text": [
            "[[ 0.91965782  0.60943175  0.81041221  1.85194896  1.00075672]\n",
            " [ 0.30041219  1.54653445  1.45316551 -0.46981663  0.27291745]\n",
            " [-1.0858536  -1.68646987 -1.70848587 -1.70159849 -2.0044758 ]\n",
            " [-0.79734143 -0.60880176 -0.67486907 -0.82480589 -0.27631471]\n",
            " [-0.71289885 -0.73062511 -0.70092664 -0.0802298  -0.7033869 ]]\n"
          ]
        }
      ]
    },
    {
      "cell_type": "code",
      "source": [
        "# k-최근접 이웃 분류기의 확률 예측\n",
        "from sklearn.neighbors import KNeighborsClassifier # 분류용\n",
        "\n",
        "kn = KNeighborsClassifier(n_neighbors=3)        # 이웃 3개 참고\n",
        "kn.fit(train_scaled, train_target)              # 훈련 시작\n",
        "\n",
        "print(kn.score(train_scaled, train_target))     # 훈련 점수 0.89\n",
        "print(kn.score(test_scaled, test_target))       # 테스트 점수 0.85"
      ],
      "metadata": {
        "colab": {
          "base_uri": "https://localhost:8080/"
        },
        "id": "bk-SiNib6CFT",
        "outputId": "aa77cbcc-3b55-49a8-a9b5-e0daa45cad55"
      },
      "execution_count": 12,
      "outputs": [
        {
          "output_type": "stream",
          "name": "stdout",
          "text": [
            "0.8907563025210085\n",
            "0.85\n"
          ]
        }
      ]
    },
    {
      "cell_type": "code",
      "source": [
        "# 전에는 0 과 1을 찾는 이진 분류였지만 지금 타겟에 7개의 어종을 넣음\n",
        "print(kn.classes_)\n",
        "# 7개의 생선 종류가 들어있다. , 2개이상 클래스가 포함된 문제를 다중 분류라고 함."
      ],
      "metadata": {
        "colab": {
          "base_uri": "https://localhost:8080/"
        },
        "id": "6uwkb1N66frM",
        "outputId": "c0b2141b-2390-44cd-fa80-712c6c588940"
      },
      "execution_count": 13,
      "outputs": [
        {
          "output_type": "stream",
          "name": "stdout",
          "text": [
            "['Bream' 'Parkki' 'Perch' 'Pike' 'Roach' 'Smelt' 'Whitefish']\n"
          ]
        }
      ]
    },
    {
      "cell_type": "code",
      "source": [
        "print(kn.predict(test_scaled[:5]))\n",
        "# 처음 5개 샘플을 타깃값 예측 해보면 아래와 같다."
      ],
      "metadata": {
        "colab": {
          "base_uri": "https://localhost:8080/"
        },
        "id": "W3QjpD-B7rhj",
        "outputId": "17b05f47-61e6-4950-ec13-7c667598cf8b"
      },
      "execution_count": 14,
      "outputs": [
        {
          "output_type": "stream",
          "name": "stdout",
          "text": [
            "['Perch' 'Smelt' 'Pike' 'Perch' 'Perch']\n"
          ]
        }
      ]
    },
    {
      "cell_type": "code",
      "source": [
        "print((test_target[:5])) # 정답"
      ],
      "metadata": {
        "colab": {
          "base_uri": "https://localhost:8080/"
        },
        "id": "FMKZG1Q39ZOj",
        "outputId": "15eb23a4-d2e9-4a62-ebc3-ff84c0f5910e"
      },
      "execution_count": 20,
      "outputs": [
        {
          "output_type": "stream",
          "name": "stdout",
          "text": [
            "['Perch' 'Smelt' 'Pike' 'Whitefish' 'Perch']\n"
          ]
        }
      ]
    },
    {
      "cell_type": "code",
      "source": [
        "print(test_scaled[:5])"
      ],
      "metadata": {
        "colab": {
          "base_uri": "https://localhost:8080/"
        },
        "id": "SoYorWKI7wpJ",
        "outputId": "9388d8cd-9151-4481-8379-8d2c7da4f135"
      },
      "execution_count": 15,
      "outputs": [
        {
          "output_type": "stream",
          "name": "stdout",
          "text": [
            "[[-0.88741352 -0.91804565 -1.03098914 -0.90464451 -0.80762518]\n",
            " [-1.06924656 -1.50842035 -1.54345461 -1.58849582 -1.93803151]\n",
            " [-0.54401367  0.35641402  0.30663259 -0.8135697  -0.65388895]\n",
            " [-0.34698097 -0.23396068 -0.22320459 -0.11905019 -0.12233464]\n",
            " [-0.68475132 -0.51509149 -0.58801052 -0.8998784  -0.50124996]]\n"
          ]
        }
      ]
    },
    {
      "cell_type": "code",
      "source": [
        "import numpy as np\n",
        "proba = kn.predict_proba(test_scaled[:5])\n",
        "# 사이킷 런이 번거로운 연산을 수행해줌으로 쉽게 결과가 나옴\n",
        "print(np.round(proba, decimals=4))\n",
        "# 소수점 네번째 자리까지 표시(다섯번쨰에서 반올림)\n",
        "# Bream  Parkki Perch  Pike   Roach  Smelt  Whithfish  순서"
      ],
      "metadata": {
        "colab": {
          "base_uri": "https://localhost:8080/"
        },
        "id": "OmMs6lgn8CvR",
        "outputId": "81bc5737-28b9-4f61-a5c0-4b9209ec14f2"
      },
      "execution_count": 16,
      "outputs": [
        {
          "output_type": "stream",
          "name": "stdout",
          "text": [
            "[[0.     0.     1.     0.     0.     0.     0.    ]\n",
            " [0.     0.     0.     0.     0.     1.     0.    ]\n",
            " [0.     0.     0.     1.     0.     0.     0.    ]\n",
            " [0.     0.     0.6667 0.     0.3333 0.     0.    ]\n",
            " [0.     0.     0.6667 0.     0.3333 0.     0.    ]]\n"
          ]
        }
      ]
    },
    {
      "cell_type": "code",
      "source": [
        "# 이 모델이 계산한 확률이 가장 가까운 이웃의 비율이 맞는지 확인 필요함\n",
        "distances, indexes = kn.kneighbors(test_scaled[3:4])        # 4번째 값을 자세히 보자\n",
        "print(train_target[indexes])\n",
        "#                Perch         Roach\n",
        "# [0.     0.     0.6667 0.     0.3333 0.     0.    ]\n",
        "# Perch 2/3 , Roach 1/3 이기 때문에 7개를 확률로 제공되지 못함\n",
        "# 이유 : n_neighbors=3으로 했기 때문에"
      ],
      "metadata": {
        "colab": {
          "base_uri": "https://localhost:8080/"
        },
        "id": "dEndjXBt8ert",
        "outputId": "73af6df2-1cda-431e-be1e-9736ea452be9"
      },
      "execution_count": 21,
      "outputs": [
        {
          "output_type": "stream",
          "name": "stdout",
          "text": [
            "[['Roach' 'Perch' 'Perch']]\n"
          ]
        }
      ]
    },
    {
      "cell_type": "code",
      "source": [
        "# 알고리즘 변경 해보자 : 로지스틱 회귀(LogisticRegression)\n",
        "# 로지스틱 회귀는 사이킷런에서 제공함 from sklearn.linear_model import LogisticRegression\n",
        "# 로지스틱 회귀는 이름이 회귀이지만 분류모델임\n",
        "\n",
        "# 선형회귀와 동일하게 선형방정식을 학습한다.\n",
        "# z = a * (Weight) + b * (Length) + c * (Diagonal) + d * (Height) + e * (Wight) + f\n",
        "# a,b,c,d,e,f 는 각 항목에 대한 다중치(중요도,계수)\n",
        "# z가 아주 큰 음수일때 0, 아주 큰 양수일때 1이 되도록 바꾸는 방법은 시그모이드 함수나 로지스틱 함수"
      ],
      "metadata": {
        "id": "t1il2A7ECeBm"
      },
      "execution_count": 22,
      "outputs": []
    },
    {
      "cell_type": "code",
      "source": [
        "import numpy as np\n",
        "import matplotlib.pyplot as plt\n",
        "\n",
        "# 시그모이드 함수용 : z가 무한하게 큰 음수 일 경우 0에 가까워짐, z가 무한하게 큰 양수일 경우 1에 가까워짐\n",
        "z = np.arange(-5, 5, 0.1)   # -5에서 5까지 0.1 간격으로 배열 생성\n",
        "phi = 1 / (1 + np.exp(-z))  # np.exe() 함수로 시그모이드 적용\n",
        "plt.plot(z, phi)\n",
        "plt.xlabel('z')\n",
        "plt.ylabel('phi')\n",
        "plt.show()"
      ],
      "metadata": {
        "colab": {
          "base_uri": "https://localhost:8080/",
          "height": 449
        },
        "id": "zDdaUfriEQKU",
        "outputId": "843e0225-21db-419d-9203-81d54bd403f3"
      },
      "execution_count": 23,
      "outputs": [
        {
          "output_type": "display_data",
          "data": {
            "text/plain": [
              "<Figure size 640x480 with 1 Axes>"
            ],
            "image/png": "[encoded data removed]"
          },
          "metadata": {}
        }
      ]
    },
    {
      "cell_type": "code",
      "source": [
        "# 선형방정식의 출력 z의 음수를 사용해 자연 상수 e를 거듭제곱하고 1을 더한 값의 역수를 취함\n",
        "# 이렇게 하면 0~1 사이 값을 0~100% 확률로 해석할 수 있다.\n",
        "# 훈련전에 2진분류부터 알아 보자.\n",
        "# 2진 분류인 경우에는 시그모이드 함수 출력이 0.5 보다 크면 양성, 0.5보다 작으면 음성으로 판단\n",
        "# 단, 0.5가 나오면 라이브러리마다 좀 다른데 사이킷런은 음성으로 판단함"
      ],
      "metadata": {
        "id": "Xkh_DkfiFJnU"
      },
      "execution_count": 24,
      "outputs": []
    },
    {
      "cell_type": "code",
      "source": [
        "# 로지스틱 회귀로 이진 분류 수행 테스트\n",
        "\n",
        "# 넘파이 배열은 True,False 값을 전달하여 행을 선택할 수 있다. (불리언 인덱싱)\n",
        "char_arr = np.array(['A', 'B', 'C', 'D', 'E'])\n",
        "print(char_arr[[True, False, True, False, False]]) # 불리언 인덱싱\n",
        "# 결과 : True 값만 출력됨"
      ],
      "metadata": {
        "colab": {
          "base_uri": "https://localhost:8080/"
        },
        "id": "ZMh1urlcGMMd",
        "outputId": "629dc5ba-8d72-49b6-b899-466c923a7b1f"
      },
      "execution_count": 26,
      "outputs": [
        {
          "output_type": "stream",
          "name": "stdout",
          "text": [
            "['A' 'C']\n"
          ]
        }
      ]
    },
    {
      "cell_type": "code",
      "source": [
        "# 위와 같은 방식으로 훈련 세트에서 도미(Bream)와, 빙어(Smelt)의 행만 골라내보자.\n",
        "bream_smelt_indexes = (train_target == 'Bream') | (train_target == 'Smelt')\n",
        "#                                       Bream or Smelt\n",
        "\n",
        "# bream_smelt_indexes 도미와 빙어 일경우 True 나머지는 False\n",
        "# 이 배열을 사용해서 train_scaled, train_target 배열에 인덱싱을 적용하면\n",
        "train_bream_smelt = train_scaled[bream_smelt_indexes]\n",
        "target_bream_smelt = train_target[bream_smelt_indexes]\n",
        "# 손쉽게 도미와 빙어 데이터만 골라낼 수 있다."
      ],
      "metadata": {
        "id": "Ia4vslhQGbbm"
      },
      "execution_count": 27,
      "outputs": []
    },
    {
      "cell_type": "code",
      "source": [
        "# 사이킷런에 선형 모델에 로지스틱 회귀 클래스를 사용\n",
        "from sklearn.linear_model import LogisticRegression\n",
        "\n",
        "lr = LogisticRegression()       # 로지스틱 회귀 객체를 변수에 연결\n",
        "lr.fit(train_bream_smelt, target_bream_smelt)  # 훈련 시작! -> 2진분류로 나옴"
      ],
      "metadata": {
        "colab": {
          "base_uri": "https://localhost:8080/",
          "height": 80
        },
        "id": "Eryb00qlIVqY",
        "outputId": "7cbe9467-de0f-46db-f85b-c31d01e415bd"
      },
      "execution_count": 28,
      "outputs": [
        {
          "output_type": "execute_result",
          "data": {
            "text/plain": [
              "LogisticRegression()"
            ],
            "text/html": [
              "<style>#sk-container-id-1 {\n",
              "  /* Definition of color scheme common for light and dark mode */\n",
              "  --sklearn-color-text: #000;\n",
              "  --sklearn-color-text-muted: #666;\n",
              "  --sklearn-color-line: gray;\n",
              "  /* Definition of color scheme for unfitted estimators */\n",
              "  --sklearn-color-unfitted-level-0: #fff5e6;\n",
              "  --sklearn-color-unfitted-level-1: #f6e4d2;\n",
              "  --sklearn-color-unfitted-level-2: #ffe0b3;\n",
              "  --sklearn-color-unfitted-level-3: chocolate;\n",
              "  /* Definition of color scheme for fitted estimators */\n",
              "  --sklearn-color-fitted-level-0: #f0f8ff;\n",
              "  --sklearn-color-fitted-level-1: #d4ebff;\n",
              "  --sklearn-color-fitted-level-2: #b3dbfd;\n",
              "  --sklearn-color-fitted-level-3: cornflowerblue;\n",
              "\n",
              "  /* Specific color for light theme */\n",
              "  --sklearn-color-text-on-default-background: var(--sg-text-color, var(--theme-code-foreground, var(--jp-content-font-color1, black)));\n",
              "  --sklearn-color-background: var(--sg-background-color, var(--theme-background, var(--jp-layout-color0, white)));\n",
              "  --sklearn-color-border-box: var(--sg-text-color, var(--theme-code-foreground, var(--jp-content-font-color1, black)));\n",
              "  --sklearn-color-icon: #696969;\n",
              "\n",
              "  @media (prefers-color-scheme: dark) {\n",
              "    /* Redefinition of color scheme for dark theme */\n",
              "    --sklearn-color-text-on-default-background: var(--sg-text-color, var(--theme-code-foreground, var(--jp-content-font-color1, white)));\n",
              "    --sklearn-color-background: var(--sg-background-color, var(--theme-background, var(--jp-layout-color0, #111)));\n",
              "    --sklearn-color-border-box: var(--sg-text-color, var(--theme-code-foreground, var(--jp-content-font-color1, white)));\n",
              "    --sklearn-color-icon: #878787;\n",
              "  }\n",
              "}\n",
              "\n",
              "#sk-container-id-1 {\n",
              "  color: var(--sklearn-color-text);\n",
              "}\n",
              "\n",
              "#sk-container-id-1 pre {\n",
              "  padding: 0;\n",
              "}\n",
              "\n",
              "#sk-container-id-1 input.sk-hidden--visually {\n",
              "  border: 0;\n",
              "  clip: rect(1px 1px 1px 1px);\n",
              "  clip: rect(1px, 1px, 1px, 1px);\n",
              "  height: 1px;\n",
              "  margin: -1px;\n",
              "  overflow: hidden;\n",
              "  padding: 0;\n",
              "  position: absolute;\n",
              "  width: 1px;\n",
              "}\n",
              "\n",
              "#sk-container-id-1 div.sk-dashed-wrapped {\n",
              "  border: 1px dashed var(--sklearn-color-line);\n",
              "  margin: 0 0.4em 0.5em 0.4em;\n",
              "  box-sizing: border-box;\n",
              "  padding-bottom: 0.4em;\n",
              "  background-color: var(--sklearn-color-background);\n",
              "}\n",
              "\n",
              "#sk-container-id-1 div.sk-container {\n",
              "  /* jupyter's `normalize.less` sets `[hidden] { display: none; }`\n",
              "     but bootstrap.min.css set `[hidden] { display: none !important; }`\n",
              "     so we also need the `!important` here to be able to override the\n",
              "     default hidden behavior on the sphinx rendered scikit-learn.org.\n",
              "     See: https://github.com/scikit-learn/scikit-learn/issues/21755 */\n",
              "  display: inline-block !important;\n",
              "  position: relative;\n",
              "}\n",
              "\n",
              "#sk-container-id-1 div.sk-text-repr-fallback {\n",
              "  display: none;\n",
              "}\n",
              "\n",
              "div.sk-parallel-item,\n",
              "div.sk-serial,\n",
              "div.sk-item {\n",
              "  /* draw centered vertical line to link estimators */\n",
              "  background-image: linear-gradient(var(--sklearn-color-text-on-default-background), var(--sklearn-color-text-on-default-background));\n",
              "  background-size: 2px 100%;\n",
              "  background-repeat: no-repeat;\n",
              "  background-position: center center;\n",
              "}\n",
              "\n",
              "/* Parallel-specific style estimator block */\n",
              "\n",
              "#sk-container-id-1 div.sk-parallel-item::after {\n",
              "  content: \"\";\n",
              "  width: 100%;\n",
              "  border-bottom: 2px solid var(--sklearn-color-text-on-default-background);\n",
              "  flex-grow: 1;\n",
              "}\n",
              "\n",
              "#sk-container-id-1 div.sk-parallel {\n",
              "  display: flex;\n",
              "  align-items: stretch;\n",
              "  justify-content: center;\n",
              "  background-color: var(--sklearn-color-background);\n",
              "  position: relative;\n",
              "}\n",
              "\n",
              "#sk-container-id-1 div.sk-parallel-item {\n",
              "  display: flex;\n",
              "  flex-direction: column;\n",
              "}\n",
              "\n",
              "#sk-container-id-1 div.sk-parallel-item:first-child::after {\n",
              "  align-self: flex-end;\n",
              "  width: 50%;\n",
              "}\n",
              "\n",
              "#sk-container-id-1 div.sk-parallel-item:last-child::after {\n",
              "  align-self: flex-start;\n",
              "  width: 50%;\n",
              "}\n",
              "\n",
              "#sk-container-id-1 div.sk-parallel-item:only-child::after {\n",
              "  width: 0;\n",
              "}\n",
              "\n",
              "/* Serial-specific style estimator block */\n",
              "\n",
              "#sk-container-id-1 div.sk-serial {\n",
              "  display: flex;\n",
              "  flex-direction: column;\n",
              "  align-items: center;\n",
              "  background-color: var(--sklearn-color-background);\n",
              "  padding-right: 1em;\n",
              "  padding-left: 1em;\n",
              "}\n",
              "\n",
              "\n",
              "/* Toggleable style: style used for estimator/Pipeline/ColumnTransformer box that is\n",
              "clickable and can be expanded/collapsed.\n",
              "- Pipeline and ColumnTransformer use this feature and define the default style\n",
              "- Estimators will overwrite some part of the style using the `sk-estimator` class\n",
              "*/\n",
              "\n",
              "/* Pipeline and ColumnTransformer style (default) */\n",
              "\n",
              "#sk-container-id-1 div.sk-toggleable {\n",
              "  /* Default theme specific background. It is overwritten whether we have a\n",
              "  specific estimator or a Pipeline/ColumnTransformer */\n",
              "  background-color: var(--sklearn-color-background);\n",
              "}\n",
              "\n",
              "/* Toggleable label */\n",
              "#sk-container-id-1 label.sk-toggleable__label {\n",
              "  cursor: pointer;\n",
              "  display: flex;\n",
              "  width: 100%;\n",
              "  margin-bottom: 0;\n",
              "  padding: 0.5em;\n",
              "  box-sizing: border-box;\n",
              "  text-align: center;\n",
              "  align-items: start;\n",
              "  justify-content: space-between;\n",
              "  gap: 0.5em;\n",
              "}\n",
              "\n",
              "#sk-container-id-1 label.sk-toggleable__label .caption {\n",
              "  font-size: 0.6rem;\n",
              "  font-weight: lighter;\n",
              "  color: var(--sklearn-color-text-muted);\n",
              "}\n",
              "\n",
              "#sk-container-id-1 label.sk-toggleable__label-arrow:before {\n",
              "  /* Arrow on the left of the label */\n",
              "  content: \"▸\";\n",
              "  float: left;\n",
              "  margin-right: 0.25em;\n",
              "  color: var(--sklearn-color-icon);\n",
              "}\n",
              "\n",
              "#sk-container-id-1 label.sk-toggleable__label-arrow:hover:before {\n",
              "  color: var(--sklearn-color-text);\n",
              "}\n",
              "\n",
              "/* Toggleable content - dropdown */\n",
              "\n",
              "#sk-container-id-1 div.sk-toggleable__content {\n",
              "  max-height: 0;\n",
              "  max-width: 0;\n",
              "  overflow: hidden;\n",
              "  text-align: left;\n",
              "  /* unfitted */\n",
              "  background-color: var(--sklearn-color-unfitted-level-0);\n",
              "}\n",
              "\n",
              "#sk-container-id-1 div.sk-toggleable__content.fitted {\n",
              "  /* fitted */\n",
              "  background-color: var(--sklearn-color-fitted-level-0);\n",
              "}\n",
              "\n",
              "#sk-container-id-1 div.sk-toggleable__content pre {\n",
              "  margin: 0.2em;\n",
              "  border-radius: 0.25em;\n",
              "  color: var(--sklearn-color-text);\n",
              "  /* unfitted */\n",
              "  background-color: var(--sklearn-color-unfitted-level-0);\n",
              "}\n",
              "\n",
              "#sk-container-id-1 div.sk-toggleable__content.fitted pre {\n",
              "  /* unfitted */\n",
              "  background-color: var(--sklearn-color-fitted-level-0);\n",
              "}\n",
              "\n",
              "#sk-container-id-1 input.sk-toggleable__control:checked~div.sk-toggleable__content {\n",
              "  /* Expand drop-down */\n",
              "  max-height: 200px;\n",
              "  max-width: 100%;\n",
              "  overflow: auto;\n",
              "}\n",
              "\n",
              "#sk-container-id-1 input.sk-toggleable__control:checked~label.sk-toggleable__label-arrow:before {\n",
              "  content: \"▾\";\n",
              "}\n",
              "\n",
              "/* Pipeline/ColumnTransformer-specific style */\n",
              "\n",
              "#sk-container-id-1 div.sk-label input.sk-toggleable__control:checked~label.sk-toggleable__label {\n",
              "  color: var(--sklearn-color-text);\n",
              "  background-color: var(--sklearn-color-unfitted-level-2);\n",
              "}\n",
              "\n",
              "#sk-container-id-1 div.sk-label.fitted input.sk-toggleable__control:checked~label.sk-toggleable__label {\n",
              "  background-color: var(--sklearn-color-fitted-level-2);\n",
              "}\n",
              "\n",
              "/* Estimator-specific style */\n",
              "\n",
              "/* Colorize estimator box */\n",
              "#sk-container-id-1 div.sk-estimator input.sk-toggleable__control:checked~label.sk-toggleable__label {\n",
              "  /* unfitted */\n",
              "  background-color: var(--sklearn-color-unfitted-level-2);\n",
              "}\n",
              "\n",
              "#sk-container-id-1 div.sk-estimator.fitted input.sk-toggleable__control:checked~label.sk-toggleable__label {\n",
              "  /* fitted */\n",
              "  background-color: var(--sklearn-color-fitted-level-2);\n",
              "}\n",
              "\n",
              "#sk-container-id-1 div.sk-label label.sk-toggleable__label,\n",
              "#sk-container-id-1 div.sk-label label {\n",
              "  /* The background is the default theme color */\n",
              "  color: var(--sklearn-color-text-on-default-background);\n",
              "}\n",
              "\n",
              "/* On hover, darken the color of the background */\n",
              "#sk-container-id-1 div.sk-label:hover label.sk-toggleable__label {\n",
              "  color: var(--sklearn-color-text);\n",
              "  background-color: var(--sklearn-color-unfitted-level-2);\n",
              "}\n",
              "\n",
              "/* Label box, darken color on hover, fitted */\n",
              "#sk-container-id-1 div.sk-label.fitted:hover label.sk-toggleable__label.fitted {\n",
              "  color: var(--sklearn-color-text);\n",
              "  background-color: var(--sklearn-color-fitted-level-2);\n",
              "}\n",
              "\n",
              "/* Estimator label */\n",
              "\n",
              "#sk-container-id-1 div.sk-label label {\n",
              "  font-family: monospace;\n",
              "  font-weight: bold;\n",
              "  display: inline-block;\n",
              "  line-height: 1.2em;\n",
              "}\n",
              "\n",
              "#sk-container-id-1 div.sk-label-container {\n",
              "  text-align: center;\n",
              "}\n",
              "\n",
              "/* Estimator-specific */\n",
              "#sk-container-id-1 div.sk-estimator {\n",
              "  font-family: monospace;\n",
              "  border: 1px dotted var(--sklearn-color-border-box);\n",
              "  border-radius: 0.25em;\n",
              "  box-sizing: border-box;\n",
              "  margin-bottom: 0.5em;\n",
              "  /* unfitted */\n",
              "  background-color: var(--sklearn-color-unfitted-level-0);\n",
              "}\n",
              "\n",
              "#sk-container-id-1 div.sk-estimator.fitted {\n",
              "  /* fitted */\n",
              "  background-color: var(--sklearn-color-fitted-level-0);\n",
              "}\n",
              "\n",
              "/* on hover */\n",
              "#sk-container-id-1 div.sk-estimator:hover {\n",
              "  /* unfitted */\n",
              "  background-color: var(--sklearn-color-unfitted-level-2);\n",
              "}\n",
              "\n",
              "#sk-container-id-1 div.sk-estimator.fitted:hover {\n",
              "  /* fitted */\n",
              "  background-color: var(--sklearn-color-fitted-level-2);\n",
              "}\n",
              "\n",
              "/* Specification for estimator info (e.g. \"i\" and \"?\") */\n",
              "\n",
              "/* Common style for \"i\" and \"?\" */\n",
              "\n",
              ".sk-estimator-doc-link,\n",
              "a:link.sk-estimator-doc-link,\n",
              "a:visited.sk-estimator-doc-link {\n",
              "  float: right;\n",
              "  font-size: smaller;\n",
              "  line-height: 1em;\n",
              "  font-family: monospace;\n",
              "  background-color: var(--sklearn-color-background);\n",
              "  border-radius: 1em;\n",
              "  height: 1em;\n",
              "  width: 1em;\n",
              "  text-decoration: none !important;\n",
              "  margin-left: 0.5em;\n",
              "  text-align: center;\n",
              "  /* unfitted */\n",
              "  border: var(--sklearn-color-unfitted-level-1) 1pt solid;\n",
              "  color: var(--sklearn-color-unfitted-level-1);\n",
              "}\n",
              "\n",
              ".sk-estimator-doc-link.fitted,\n",
              "a:link.sk-estimator-doc-link.fitted,\n",
              "a:visited.sk-estimator-doc-link.fitted {\n",
              "  /* fitted */\n",
              "  border: var(--sklearn-color-fitted-level-1) 1pt solid;\n",
              "  color: var(--sklearn-color-fitted-level-1);\n",
              "}\n",
              "\n",
              "/* On hover */\n",
              "div.sk-estimator:hover .sk-estimator-doc-link:hover,\n",
              ".sk-estimator-doc-link:hover,\n",
              "div.sk-label-container:hover .sk-estimator-doc-link:hover,\n",
              ".sk-estimator-doc-link:hover {\n",
              "  /* unfitted */\n",
              "  background-color: var(--sklearn-color-unfitted-level-3);\n",
              "  color: var(--sklearn-color-background);\n",
              "  text-decoration: none;\n",
              "}\n",
              "\n",
              "div.sk-estimator.fitted:hover .sk-estimator-doc-link.fitted:hover,\n",
              ".sk-estimator-doc-link.fitted:hover,\n",
              "div.sk-label-container:hover .sk-estimator-doc-link.fitted:hover,\n",
              ".sk-estimator-doc-link.fitted:hover {\n",
              "  /* fitted */\n",
              "  background-color: var(--sklearn-color-fitted-level-3);\n",
              "  color: var(--sklearn-color-background);\n",
              "  text-decoration: none;\n",
              "}\n",
              "\n",
              "/* Span, style for the box shown on hovering the info icon */\n",
              ".sk-estimator-doc-link span {\n",
              "  display: none;\n",
              "  z-index: 9999;\n",
              "  position: relative;\n",
              "  font-weight: normal;\n",
              "  right: .2ex;\n",
              "  padding: .5ex;\n",
              "  margin: .5ex;\n",
              "  width: min-content;\n",
              "  min-width: 20ex;\n",
              "  max-width: 50ex;\n",
              "  color: var(--sklearn-color-text);\n",
              "  box-shadow: 2pt 2pt 4pt #999;\n",
              "  /* unfitted */\n",
              "  background: var(--sklearn-color-unfitted-level-0);\n",
              "  border: .5pt solid var(--sklearn-color-unfitted-level-3);\n",
              "}\n",
              "\n",
              ".sk-estimator-doc-link.fitted span {\n",
              "  /* fitted */\n",
              "  background: var(--sklearn-color-fitted-level-0);\n",
              "  border: var(--sklearn-color-fitted-level-3);\n",
              "}\n",
              "\n",
              ".sk-estimator-doc-link:hover span {\n",
              "  display: block;\n",
              "}\n",
              "\n",
              "/* \"?\"-specific style due to the `<a>` HTML tag */\n",
              "\n",
              "#sk-container-id-1 a.estimator_doc_link {\n",
              "  float: right;\n",
              "  font-size: 1rem;\n",
              "  line-height: 1em;\n",
              "  font-family: monospace;\n",
              "  background-color: var(--sklearn-color-background);\n",
              "  border-radius: 1rem;\n",
              "  height: 1rem;\n",
              "  width: 1rem;\n",
              "  text-decoration: none;\n",
              "  /* unfitted */\n",
              "  color: var(--sklearn-color-unfitted-level-1);\n",
              "  border: var(--sklearn-color-unfitted-level-1) 1pt solid;\n",
              "}\n",
              "\n",
              "#sk-container-id-1 a.estimator_doc_link.fitted {\n",
              "  /* fitted */\n",
              "  border: var(--sklearn-color-fitted-level-1) 1pt solid;\n",
              "  color: var(--sklearn-color-fitted-level-1);\n",
              "}\n",
              "\n",
              "/* On hover */\n",
              "#sk-container-id-1 a.estimator_doc_link:hover {\n",
              "  /* unfitted */\n",
              "  background-color: var(--sklearn-color-unfitted-level-3);\n",
              "  color: var(--sklearn-color-background);\n",
              "  text-decoration: none;\n",
              "}\n",
              "\n",
              "#sk-container-id-1 a.estimator_doc_link.fitted:hover {\n",
              "  /* fitted */\n",
              "  background-color: var(--sklearn-color-fitted-level-3);\n",
              "}\n",
              "</style><div id=\"sk-container-id-1\" class=\"sk-top-container\"><div class=\"sk-text-repr-fallback\"><pre>LogisticRegression()</pre><b>In a Jupyter environment, please rerun this cell to show the HTML representation or trust the notebook. <br />On GitHub, the HTML representation is unable to render, please try loading this page with nbviewer.org.</b></div><div class=\"sk-container\" hidden><div class=\"sk-item\"><div class=\"sk-estimator fitted sk-toggleable\"><input class=\"sk-toggleable__control sk-hidden--visually\" id=\"sk-estimator-id-1\" type=\"checkbox\" checked><label for=\"sk-estimator-id-1\" class=\"sk-toggleable__label fitted sk-toggleable__label-arrow\"><div><div>LogisticRegression</div></div><div><a class=\"sk-estimator-doc-link fitted\" rel=\"noreferrer\" target=\"_blank\" href=\"https://scikit-learn.org/1.6/modules/generated/sklearn.linear_model.LogisticRegression.html\">?<span>Documentation for LogisticRegression</span></a><span class=\"sk-estimator-doc-link fitted\">i<span>Fitted</span></span></div></label><div class=\"sk-toggleable__content fitted\"><pre>LogisticRegression()</pre></div> </div></div></div></div>"
            ]
          },
          "metadata": {},
          "execution_count": 28
        }
      ]
    },
    {
      "cell_type": "code",
      "source": [
        "# train_bream_smelt 처음 5개의 값으로 결론을 보자\n",
        "print(lr.predict(train_bream_smelt[:5])) # 도미 4개 , 빙어 1개"
      ],
      "metadata": {
        "colab": {
          "base_uri": "https://localhost:8080/"
        },
        "id": "IlENqaxVLROF",
        "outputId": "b68c278d-304a-471f-fc3b-bd27726420b5"
      },
      "execution_count": 29,
      "outputs": [
        {
          "output_type": "stream",
          "name": "stdout",
          "text": [
            "['Bream' 'Smelt' 'Bream' 'Bream' 'Bream']\n"
          ]
        }
      ]
    },
    {
      "cell_type": "code",
      "source": [
        "print(lr.predict_proba(train_bream_smelt[:5])) # 확률 확인(rpedict_proba)"
      ],
      "metadata": {
        "colab": {
          "base_uri": "https://localhost:8080/"
        },
        "id": "gdQSHAAALUh8",
        "outputId": "94c366dd-e744-4cd5-fc41-e9599786f186"
      },
      "execution_count": 31,
      "outputs": [
        {
          "output_type": "stream",
          "name": "stdout",
          "text": [
            "[[0.99760007 0.00239993]\n",
            " [0.02737325 0.97262675]\n",
            " [0.99486386 0.00513614]\n",
            " [0.98585047 0.01414953]\n",
            " [0.99767419 0.00232581]]\n"
          ]
        }
      ]
    },
    {
      "cell_type": "code",
      "source": [
        "# 샘플마다 2개의 확률이 출력된다. (시그모이드 함수)\n",
        "# 첫번쨰 열이 0(음성)에 대한 확률, 두번째 열이 1(양성)에 대한 확률임\n",
        "# 사이킷런의 타깃 값은 알파벳 순으로 정렬해서 사용함\n",
        "print(lr.classes_) # Smelt(빙어)가 양성으로 사용됨\n",
        "# 두번째 샘플만 앵성 클래스인 빙어의 확률이 높다. (나머지는 도미로 예측함)\n",
        "# 만약 도미(Bream)를 양성 클래스로 사용하고 싶으면 전에 전처리에서 Bream인 타깃값을 1로 만들어야 함"
      ],
      "metadata": {
        "colab": {
          "base_uri": "https://localhost:8080/"
        },
        "id": "YHDTbjayOH7e",
        "outputId": "1011b08b-a96b-4bb9-91cd-7e0c3e99183c"
      },
      "execution_count": 32,
      "outputs": [
        {
          "output_type": "stream",
          "name": "stdout",
          "text": [
            "['Bream' 'Smelt']\n"
          ]
        }
      ]
    },
    {
      "cell_type": "code",
      "source": [
        "# 로지스틱 회귀로 학습한 계수(중요도)를 봐보자\n",
        "print(lr.coef_, lr.intercept_)"
      ],
      "metadata": {
        "colab": {
          "base_uri": "https://localhost:8080/"
        },
        "id": "puRmmXjIO3wu",
        "outputId": "326559ed-7974-4f35-a4e5-b87c5f108939"
      },
      "execution_count": 33,
      "outputs": [
        {
          "output_type": "stream",
          "name": "stdout",
          "text": [
            "[[-0.40451732 -0.57582787 -0.66248158 -1.01329614 -0.73123131]] [-2.16172774]\n"
          ]
        }
      ]
    },
    {
      "cell_type": "code",
      "source": [
        "# [[-0.40451732 -0.57582787 -0.66248158 -1.01329614 -0.73123131]] [-2.16172774]\n",
        "# 선형 방정식에 대립해서 결과가 나옴\n",
        "# # z = a * (Weight) + b * (Length) + c * (Diagonal) + d * (Height) + e * (Wight) + f\n",
        "# # z = -0.40451732 * (Weight) + -0.57582787 * (Length) + -0.66248158 * (Diagonal) +\n",
        "#       -1.01329614 * (Height) + -0.73123131 * (Wight) + -2.16172774 로 가중치가 결정됨\n",
        "\n",
        "decisions = lr.decision_function(train_bream_smelt[:5])\n",
        "print(decisions)"
      ],
      "metadata": {
        "colab": {
          "base_uri": "https://localhost:8080/"
        },
        "id": "-aNtFLSEPtgm",
        "outputId": "44e530c2-8a5c-4934-f11e-7901b4351150"
      },
      "execution_count": 34,
      "outputs": [
        {
          "output_type": "stream",
          "name": "stdout",
          "text": [
            "[-6.02991358  3.57043428 -5.26630496 -4.24382314 -6.06135688]\n"
          ]
        }
      ]
    },
    {
      "cell_type": "code",
      "source": [
        "# 이 z 값을 시그모이드 함수에 통과시키면 확률을 얻을 수 잇따.\n",
        "# 파이썬의 사이파이(scipy) 라이브러리에도 시그모이드 함수가 있다. -> expit()\n",
        "from scipy.special import expit\n",
        "print(expit(decisions))\n",
        "# 여기까지가 2개의 물고기 분류하는 방법임\n",
        "# 도미        빙어       도미       도미       도미\n",
        "# [0.00239993 0.97262675 0.00513614 0.01414953 0.00232581]"
      ],
      "metadata": {
        "colab": {
          "base_uri": "https://localhost:8080/"
        },
        "id": "wl36V1ghQrv_",
        "outputId": "1940730a-b7b9-4c02-e333-d70a24050656"
      },
      "execution_count": 36,
      "outputs": [
        {
          "output_type": "stream",
          "name": "stdout",
          "text": [
            "[0.00239993 0.97262675 0.00513614 0.01414953 0.00232581]\n"
          ]
        }
      ]
    },
    {
      "cell_type": "code",
      "source": [
        "# 다중분류로 진행 해보기 (2진분류는 True 아니면 모두 False 처리 됨)\n",
        "# 현재 어종이 7개 임으로 로지스틱 회귀로 분류를 학습함\n",
        "\n",
        "# LogisticRegression 클래스는 기본적으로 반복적인 알고리즘을 사용함 (max_iter=100)\n",
        "# max_iter=100 반복횟수를 100으로 하면 부족하다라는 경고 문구가 나와 1000으로 향상\n",
        "# LogisticRegression 기본적으로 릿ㅈ ㅣ회귀와 같은 계수를 제곱을 규제한다. (L2 규제)\n",
        "# 릿지 회귀에서는 alpha 매개변수로 규제의 양을 조절 하였음 -> alpha 가 크면 규제도 커짐\n",
        "# LogisticRegression 규제를 제어하는 매개변수가 C로 되어있음 -> C가 작으면 규제가 커짐(기본1)\n",
        "# 규제를 완화하기 위해서 20으로 늘리겠다.\n",
        "\n",
        "lr = LogisticRegression(C=20, max_iter=1000)    # max_iter-1000 정확도를 위해서 1000번 반복\n",
        "lr.fit(train_scaled, train_target)\n",
        "\n",
        "print(lr.score(train_scaled, train_target)) # 93%\n",
        "print(lr.score(test_scaled, test_target))   # 92.5% 과소나 과대적합이 아닌듯함\n"
      ],
      "metadata": {
        "colab": {
          "base_uri": "https://localhost:8080/"
        },
        "id": "pcnX_c-FRlMH",
        "outputId": "099bc817-6461-4a0d-8eb0-1be2fc86233b"
      },
      "execution_count": 38,
      "outputs": [
        {
          "output_type": "stream",
          "name": "stdout",
          "text": [
            "0.9327731092436975\n",
            "0.925\n"
          ]
        }
      ]
    },
    {
      "cell_type": "code",
      "source": [
        "print(lr.predict(test_scaled[:5]))  # 결과 분석시 다중분류로 나옴"
      ],
      "metadata": {
        "colab": {
          "base_uri": "https://localhost:8080/"
        },
        "id": "hexrWMJMUBsg",
        "outputId": "9a0d0014-5a8a-4a1c-f3ac-2cf75c2ce60b"
      },
      "execution_count": 39,
      "outputs": [
        {
          "output_type": "stream",
          "name": "stdout",
          "text": [
            "['Perch' 'Smelt' 'Pike' 'Roach' 'Perch']\n"
          ]
        }
      ]
    },
    {
      "cell_type": "code",
      "source": [
        "proba = lr.predict_proba(test_scaled[:5])\n",
        "print(np.round(proba, decimals=3))\n",
        "# Bream  Parkki Perch Roach Smelt Whitefish\n",
        "# [0.    0.014  0.842 0.    0.135 0.007 0.003]\n",
        "# [0.    0.003  0.044 0.    0.007 0.946 0.   ]\n",
        "# [0.    0.     0.034 0.934 0.015 0.016 0.   ]\n",
        "# [0.011 0.034  0.305 0.006 0.567 0.    0.076]\n",
        "# [0.    0.     0.904 0.002 0.089 0.002 0.001]"
      ],
      "metadata": {
        "colab": {
          "base_uri": "https://localhost:8080/"
        },
        "id": "wcr_bNz-UjJZ",
        "outputId": "12b7dbc7-28e5-4391-f1c2-579736a26312"
      },
      "execution_count": 40,
      "outputs": [
        {
          "output_type": "stream",
          "name": "stdout",
          "text": [
            "[[0.    0.014 0.842 0.    0.135 0.007 0.003]\n",
            " [0.    0.003 0.044 0.    0.007 0.946 0.   ]\n",
            " [0.    0.    0.034 0.934 0.015 0.016 0.   ]\n",
            " [0.011 0.034 0.305 0.006 0.567 0.    0.076]\n",
            " [0.    0.    0.904 0.002 0.089 0.002 0.001]]\n"
          ]
        }
      ]
    },
    {
      "cell_type": "code",
      "source": [
        "print(lr.classes_) # 알파벳 순으로 정렬되어 보임\n",
        "# 7개의 클래스가 명확하게 구분이 됨"
      ],
      "metadata": {
        "colab": {
          "base_uri": "https://localhost:8080/"
        },
        "id": "oxHs0en5Uovu",
        "outputId": "e902e357-bedf-447c-a248-cd91baa63041"
      },
      "execution_count": 41,
      "outputs": [
        {
          "output_type": "stream",
          "name": "stdout",
          "text": [
            "['Bream' 'Parkki' 'Perch' 'Pike' 'Roach' 'Smelt' 'Whitefish']\n"
          ]
        }
      ]
    },
    {
      "cell_type": "code",
      "source": [
        "# 다중 분류일때 선형 방정식\n",
        "print(lr.coef_.shape, lr.intercept_.shape)\n",
        "# (7,5) 이 데이터는 5개의 특성을 사용함, 7행을 가짐\n",
        "# (7,) 7개의 행 -> 이진 분류에서 보았던 z을 7개를 계산함.\n",
        "# 다중 분류는 클래스마다 z 값을 하나씩 계산 한다는 의미다.\n",
        "# 당연히 가장 높은 z 값을 출력하는 클래스가 예측 클래스가 됨"
      ],
      "metadata": {
        "colab": {
          "base_uri": "https://localhost:8080/"
        },
        "id": "fmUcX067Vo0b",
        "outputId": "f5366c5a-fcdf-4916-84e8-471458c97a20"
      },
      "execution_count": 42,
      "outputs": [
        {
          "output_type": "stream",
          "name": "stdout",
          "text": [
            "(7, 5) (7,)\n"
          ]
        }
      ]
    },
    {
      "cell_type": "code",
      "source": [
        "# 그럼 확률은 ? 이진 분류에서는 시그모이드 함수를 사용해 z를 0과 1사이 값으로 변환 했었다.\n",
        "# 그러나 다중 분류에서 소프트맥스 함수를 사용해서 7개의 z값을 확률로 변환한다.\n",
        "\n",
        "# 소프트맥스 계산법\n",
        "# e_sum = e^z1 + e^z2 + e^z3+ e^z4 + e^z5 + e^z6 + e^z7\n",
        "# s1 = e^z1 / e_sum ........ s7 = e^z7/e_sum -> s1 ~ s7 까지 모두 더하면 분모가 같아져 1이 됨"
      ],
      "metadata": {
        "id": "b5NOuCyeWYTb"
      },
      "execution_count": 43,
      "outputs": []
    },
    {
      "cell_type": "markdown",
      "source": [
        "![image.png](data:image/png;base64,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)"
      ],
      "metadata": {
        "id": "0Vul_p3zXnlB"
      }
    },
    {
      "cell_type": "code",
      "source": [
        "decision = lr.decision_function(test_scaled[:5])\n",
        "print('5개 샘플에 대한 z1 ~ z7의 값\\n')\n",
        "for idx,z in enumerate(decision):\n",
        "    print(f' {idx+1}번째 샘플의 z값\\n{z}\\n')"
      ],
      "metadata": {
        "colab": {
          "base_uri": "https://localhost:8080/"
        },
        "id": "AgpAyOF5Xnbo",
        "outputId": "a42dcc29-db00-40b1-f207-5ca6485e70be"
      },
      "execution_count": 44,
      "outputs": [
        {
          "output_type": "stream",
          "name": "stdout",
          "text": [
            "5개 샘플에 대한 z1 ~ z7의 값\n",
            "\n",
            " 1번째 샘플의 z값\n",
            "[-6.50722814  1.03902666  5.16819138 -2.75730346  3.33655201  0.34625859\n",
            " -0.62549704]\n",
            "\n",
            " 2번째 샘플의 z값\n",
            "[-10.87900747   1.94410609   4.77600607  -2.42306183   2.98748716\n",
            "   7.84171377  -4.24724379]\n",
            "\n",
            " 3번째 샘플의 z값\n",
            "[-4.33809959 -6.23690282  3.16746648  6.48091391  2.36412675  2.43431898\n",
            " -3.87182371]\n",
            "\n",
            " 4번째 샘플의 z값\n",
            "[-0.69143994  0.44628533  2.64291146 -1.21457286  3.2612452  -5.70143404\n",
            "  1.25700485]\n",
            "\n",
            " 5번째 샘플의 z값\n",
            "[-6.40138612 -1.99137623  5.81526372 -0.134644    3.49905134 -0.08753485\n",
            " -0.69937385]\n",
            "\n"
          ]
        }
      ]
    },
    {
      "cell_type": "code",
      "source": [
        "from scipy.special import softmax\n",
        "print('소프트맥스 함수로 예측 확률 구하기\\n')\n",
        "class_ = lr.classes_.tolist() + ['예측결과']\n",
        "prd = lr.predict(test_scaled[:5]).reshape(5,-1)\n",
        "sm = softmax(decision, axis=1).round(2) * 100\n",
        "con = np.column_stack((sm, prd))\n",
        "print(pd.DataFrame(con, columns=class_))\n",
        "\n",
        "# 소프트맥스 함수로 예측 확률 구하기\n",
        "\n",
        "#       Bream Parkki Perch  Pike Roach Smelt Whitefish   예측결과\n",
        "# 0     0.0    1.0    84.0 0.0   13.0  1.0   0.0         Perch\n",
        "# 1     0.0    0.0    4.0  0.0   1.0   95.0  0.0         Smelt\n",
        "# 2     0.0    0.0    3.0  93.0  2.0   2.0   0.0         Pike\n",
        "# 3     1.0    3.0    31.0 1.0   57.0  0.0   8.0         Roach\n",
        "# 4     0.0    0.0    90.0 0.0   9.0   0.0   0.0         Perch"
      ],
      "metadata": {
        "colab": {
          "base_uri": "https://localhost:8080/"
        },
        "id": "Dhe52cJTXjPA",
        "outputId": "b2fd5dcf-c551-4694-c073-8c98e10d41b3"
      },
      "execution_count": 47,
      "outputs": [
        {
          "output_type": "stream",
          "name": "stdout",
          "text": [
            "소프트맥스 함수로 예측 확률 구하기\n",
            "\n",
            "  Bream Parkki Perch  Pike Roach Smelt Whitefish   예측결과\n",
            "0   0.0    1.0  84.0   0.0  13.0   1.0       0.0  Perch\n",
            "1   0.0    0.0   4.0   0.0   1.0  95.0       0.0  Smelt\n",
            "2   0.0    0.0   3.0  93.0   2.0   2.0       0.0   Pike\n",
            "3   1.0    3.0  31.0   1.0  57.0   0.0       8.0  Roach\n",
            "4   0.0    0.0  90.0   0.0   9.0   0.0       0.0  Perch\n"
          ]
        }
      ]
    },
    {
      "cell_type": "code",
      "source": [],
      "metadata": {
        "id": "QGXZH1uAYeIw"
      },
      "execution_count": null,
      "outputs": []
    }
  ]
}